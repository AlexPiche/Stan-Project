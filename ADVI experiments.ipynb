{
 "cells": [
  {
   "cell_type": "code",
   "execution_count": 2,
   "metadata": {
    "collapsed": false
   },
   "outputs": [],
   "source": [
    "import rpy2\n",
    "import time\n",
    "%load_ext rpy2.ipython"
   ]
  },
  {
   "cell_type": "code",
   "execution_count": 3,
   "metadata": {
    "collapsed": false
   },
   "outputs": [
    {
     "name": "stderr",
     "output_type": "stream",
     "text": [
      "/usr/local/lib/python2.7/site-packages/rpy2/robjects/functions.py:106: UserWarning: Loading required package: ggplot2\n",
      "\n",
      "  res = super(Function, self).__call__(*new_args, **new_kwargs)\n",
      "/usr/local/lib/python2.7/site-packages/rpy2/robjects/functions.py:106: UserWarning: rstan (Version 2.9.0-3, packaged: 2016-02-11 15:54:41 UTC, GitRev: 05c3d0058b6a)\n",
      "\n",
      "  res = super(Function, self).__call__(*new_args, **new_kwargs)\n",
      "/usr/local/lib/python2.7/site-packages/rpy2/robjects/functions.py:106: UserWarning: For execution on a local, multicore CPU with excess RAM we recommend calling\n",
      "rstan_options(auto_write = TRUE)\n",
      "options(mc.cores = parallel::detectCores())\n",
      "\n",
      "  res = super(Function, self).__call__(*new_args, **new_kwargs)\n",
      "/usr/local/lib/python2.7/site-packages/rpy2/robjects/functions.py:106: UserWarning: This is loo version 0.1.5\n",
      "\n",
      "  res = super(Function, self).__call__(*new_args, **new_kwargs)\n"
     ]
    }
   ],
   "source": [
    "%%R\n",
    "library(rstan)\n",
    "library(loo)\n",
    "source(\"read_one_stan_csv.r\")"
   ]
  },
  {
   "cell_type": "markdown",
   "metadata": {},
   "source": [
    "## Dorothea\n",
    "\n",
    "Abstract: DOROTHEA is a drug discovery dataset. Chemical compounds represented by structural molecular features must be classified as active (binding to thrombin) or inactive. This is one of 5 datasets of the NIPS 2003 feature selection challenge.\n",
    "\n",
    "http://pages.cs.wisc.edu/~dpage/kddcup2001/Cheng.pdf"
   ]
  },
  {
   "cell_type": "code",
   "execution_count": 3,
   "metadata": {
    "collapsed": false
   },
   "outputs": [
    {
     "name": "stdout",
     "output_type": "stream",
     "text": [
      "data { \r\n",
      "  int N;\r\n",
      "  int Ntest;\r\n",
      "  int D;\r\n",
      "  int<lower=0,upper=1> y[N];\r\n",
      "  matrix[N,D] x;\r\n",
      "  int<lower=0,upper=1> ytest[Ntest];\r\n",
      "  matrix[Ntest,D] xtest;\r\n",
      "  real<lower=0> lambda;\r\n",
      "}\r\n",
      "parameters {\r\n",
      "  real<lower=-0.5,upper=0.5> alpha;\r\n",
      "  vector<lower=-0.5,upper=0.5>[D] beta;\r\n",
      "}\r\n",
      "transformed parameters {\r\n",
      "  real<lower=0> errors[Ntest];\r\n",
      "  for(n in 1:Ntest)\r\n",
      "    errors[n] <- fabs(ytest[n] - logit(alpha + xtest[n]*beta));\r\n",
      "}\r\n",
      "model {\r\n",
      "  alpha ~ normal(0,1);\r\n",
      "  beta ~ normal(0,1);\r\n",
      "  //for (d in 1:D){\r\n",
      "  //increment_log_prob(- lambda * fabs(beta[d])); // Lasso to perform variable selection\r\n",
      "  //}\r\n",
      "\r\n",
      "  for(n in 1:N)\r\n",
      "    y[n] ~ bernoulli(inv_logit(alpha + x[n]*beta)); //more efficient\r\n",
      "}\r\n",
      "generated quantities {\r\n",
      "  real<lower=0> average_error;\r\n",
      "  average_error <- sum(errors) / N;\r\n",
      "}\r\n"
     ]
    }
   ],
   "source": [
    "!cat examples/dorothea/dorothea.stan"
   ]
  },
  {
   "cell_type": "code",
   "execution_count": 30,
   "metadata": {
    "collapsed": false
   },
   "outputs": [
    {
     "name": "stdout",
     "output_type": "stream",
     "text": [
      "\r\n",
      "load(\"dorothea.rda\")\r\n",
      "\r\n",
      "pmatrix <- scale(x.train)\r\n",
      "princ <- prcomp(x.train)\r\n",
      "\r\n",
      "nComp <- 250\r\n",
      "pca_x.train <- data.frame(predict(princ, newdata=x.train)[,1:nComp])\r\n",
      "pca_x.valid <- data.frame(predict(princ, newdata=x.valid)[,1:nComp])\r\n",
      "\r\n",
      "my.model <- glm(y.train~., data=pca_x.train)\r\n",
      "\r\n",
      "yhat_valid <- predict(my.model, newdata = data.frame(pca_x.valid))\r\n",
      "\r\n",
      "\r\n",
      "N <- 800\r\n",
      "Ntest <- dim(pca_x.valid)[1]\r\n",
      "D <- nComp\r\n",
      "y <- y.train\r\n",
      "x <- scale(pca_x.train)\r\n",
      "ytest <- y.valid\r\n",
      "xtest <- scale(pca_x.valid)\r\n",
      "lambda <- 0.5\r\n",
      "\r\n",
      "y <- plyr::mapvalues(y, -1, 0)\r\n",
      "ytest <- plyr::mapvalues(ytest, -1, 0)\r\n",
      "\r\n",
      "rstan::stan_rdump(c('N','Ntest','D','y','x','ytest', 'xtest', 'lambda'),\r\n",
      "                  file=\"dorothea.data.R\")\r\n",
      "\r\n",
      "N <- 800\r\n",
      "Nt <- dim(pca_x.valid)[1]\r\n",
      "d <- nComp\r\n",
      "num_nodes <- 10\r\n",
      "num_middle_layers <- 1\r\n",
      "y <- y.train\r\n",
      "X <- scale(pca_x.train)\r\n",
      "yt <- y.valid\r\n",
      "Xt <- scale(pca_x.valid)\r\n",
      "y <- plyr::mapvalues(y, -1, 0)\r\n",
      "yt <- plyr::mapvalues(yt, -1, 0)\r\n",
      "\r\n",
      "rstan::stan_rdump(c('N','d', 'num_nodes', 'num_middle_layers',\r\n",
      "                    'Nt','y','X','yt', 'Xt'),file=\"dorotheabnn.data.R\")\r\n"
     ]
    }
   ],
   "source": [
    "!cat examples/dorothea/datadorothea.r"
   ]
  },
  {
   "cell_type": "code",
   "execution_count": 9,
   "metadata": {
    "collapsed": false
   },
   "outputs": [
    {
     "name": "stdout",
     "output_type": "stream",
     "text": [
      "\n",
      "--- Translating Stan model to C++ code ---\n",
      "bin/stanc examples/dorothea/dorothea.stan --o=examples/dorothea/dorothea.hpp\n",
      "Model name=dorothea_model\n",
      "Input file=examples/dorothea/dorothea.stan\n",
      "Output file=examples/dorothea/dorothea.hpp\n",
      "\n",
      "--- Linking C++ model ---\n",
      "g++ -DBOOST_RESULT_OF_USE_TR1 -DBOOST_NO_DECLTYPE -DBOOST_DISABLE_ASSERTS -I src -I stan_2.9.0/src -isystem stan_2.9.0/lib/stan_math_2.9.0/ -isystem stan_2.9.0/lib/stan_math_2.9.0/lib/eigen_3.2.4 -isystem stan_2.9.0/lib/stan_math_2.9.0/lib/boost_1.58.0 -Wall -pipe -DEIGEN_NO_DEBUG -Wno-unused-function -ftemplate-depth-256    -O3 -o examples/dorothea/dorothea src/cmdstan/main.cpp -include examples/dorothea/dorothea.hpp \n"
     ]
    }
   ],
   "source": [
    "!make examples/dorothea/dorothea"
   ]
  },
  {
   "cell_type": "code",
   "execution_count": 12,
   "metadata": {
    "collapsed": false,
    "scrolled": true
   },
   "outputs": [
    {
     "name": "stdout",
     "output_type": "stream",
     "text": [
      " method = sample (Default)\n",
      "   sample\n",
      "     num_samples = 1000 (Default)\n",
      "     num_warmup = 1000 (Default)\n",
      "     save_warmup = 0 (Default)\n",
      "     thin = 1 (Default)\n",
      "     adapt\n",
      "       engaged = 1 (Default)\n",
      "       gamma = 0.050000000000000003 (Default)\n",
      "       delta = 0.80000000000000004 (Default)\n",
      "       kappa = 0.75 (Default)\n",
      "       t0 = 10 (Default)\n",
      "       init_buffer = 75 (Default)\n",
      "       term_buffer = 50 (Default)\n",
      "       window = 25 (Default)\n",
      "     algorithm = hmc (Default)\n",
      "       hmc\n",
      "         engine = nuts (Default)\n",
      "           nuts\n",
      "             max_depth = 10 (Default)\n",
      "         metric = diag_e (Default)\n",
      "         stepsize = 1 (Default)\n",
      "         stepsize_jitter = 0 (Default)\n",
      " id = 0 (Default)\n",
      " data\n",
      "   file = examples/dorothea/dorothea.data.R\n",
      " init = 2 (Default)\n",
      " random\n",
      "   seed = 1464520610\n",
      " output\n",
      "   file = dorothea_nuts.csv\n",
      "   diagnostic_file =  (Default)\n",
      "   refresh = 100 (Default)\n",
      "\n",
      "\n",
      "Gradient evaluation took 0.009934 seconds\n",
      "1000 transitions using 10 leapfrog steps per transition would take 99.34 seconds.\n",
      "Adjust your expectations accordingly!\n",
      "\n",
      "\n",
      "Iteration:    1 / 2000 [  0%]  (Warmup)\n",
      "\n",
      "Informational Message: The current Metropolis proposal is about to be rejected because of the following issue:\n",
      "Exception thrown at line 58: stan::math::multi_normal_prec_log: LDLT_Factor of precision parameter is not positive definite. last conditional variance is nan.\n",
      "If this warning occurs sporadically, such as for highly constrained variable types like covariance matrices, then the sampler is fine,\n",
      "but if this warning occurs often then your model may be either severely ill-conditioned or misspecified.\n",
      "Iteration:  100 / 2000 [  5%]  (Warmup)\n",
      "Iteration:  200 / 2000 [ 10%]  (Warmup)\n",
      "Iteration:  300 / 2000 [ 15%]  (Warmup)\n",
      "Iteration:  400 / 2000 [ 20%]  (Warmup)\n",
      "Iteration:  500 / 2000 [ 25%]  (Warmup)\n",
      "Iteration:  600 / 2000 [ 30%]  (Warmup)\n",
      "Iteration:  700 / 2000 [ 35%]  (Warmup)\n",
      "Iteration:  800 / 2000 [ 40%]  (Warmup)\n",
      "Iteration:  900 / 2000 [ 45%]  (Warmup)\n",
      "Iteration: 1000 / 2000 [ 50%]  (Warmup)\n",
      "Iteration: 1001 / 2000 [ 50%]  (Sampling)\n",
      "Iteration: 1100 / 2000 [ 55%]  (Sampling)\n",
      "Iteration: 1200 / 2000 [ 60%]  (Sampling)\n",
      "Iteration: 1300 / 2000 [ 65%]  (Sampling)\n",
      "Iteration: 1400 / 2000 [ 70%]  (Sampling)\n",
      "Iteration: 1500 / 2000 [ 75%]  (Sampling)\n",
      "Iteration: 1600 / 2000 [ 80%]  (Sampling)\n",
      "Iteration: 1700 / 2000 [ 85%]  (Sampling)\n",
      "Iteration: 1800 / 2000 [ 90%]  (Sampling)\n",
      "Iteration: 1900 / 2000 [ 95%]  (Sampling)\n",
      "Iteration: 2000 / 2000 [100%]  (Sampling)\n",
      "# \n",
      "#  Elapsed Time: 464.788 seconds (Warm-up)\n",
      "#                464.797 seconds (Sampling)\n",
      "#                929.585 seconds (Total)\n",
      "# \n",
      "942.909364939\n"
     ]
    }
   ],
   "source": [
    "start = time.time()\n",
    "!examples/dorothea/dorothea sample data file=examples/dorothea/dorothea.data.R output file=dorothea_nuts.csv \n",
    "end = time.time()\n",
    "\n",
    "print end-start"
   ]
  },
  {
   "cell_type": "code",
   "execution_count": 15,
   "metadata": {
    "collapsed": false
   },
   "outputs": [
    {
     "data": {
      "text/plain": [
       "Computed from 1000 by 800 log-likelihood matrix\n",
       "\n",
       "         Estimate   SE\n",
       "elpd_loo   -225.6 18.6\n",
       "p_loo       136.0 11.8\n",
       "looic       451.2 37.3\n",
       "Computed from 1000 by 800 log-likelihood matrix\n",
       "\n",
       "          Estimate   SE\n",
       "elpd_waic   -180.6 16.5\n",
       "p_waic        91.0  8.9\n",
       "waic         361.1 32.9\n",
       "       V1        \n",
       " Min.   :0.1545  \n",
       " 1st Qu.:0.2081  \n",
       " Median :0.2260  \n",
       " Mean   :0.2259  \n",
       " 3rd Qu.:0.2427  \n",
       " Max.   :0.3047  \n"
      ]
     },
     "metadata": {},
     "output_type": "display_data"
    }
   ],
   "source": [
    "%%R\n",
    "output_nuts <- read_stan_csv(\"dorothea_nuts.csv\")\n",
    "\n",
    "\n",
    "\n",
    "log_lik <- extract_log_lik(output_nuts) # see ?extract_log_lik\n",
    "\n",
    "\n",
    "print(loo(log_lik))\n",
    "print(waic(log_lik))\n",
    "print(summary(extract_log_lik(output_nuts, \"average_error\")))\n"
   ]
  },
  {
   "cell_type": "code",
   "execution_count": 10,
   "metadata": {
    "collapsed": false,
    "scrolled": false
   },
   "outputs": [
    {
     "name": "stdout",
     "output_type": "stream",
     "text": [
      " method = variational\n",
      "   variational\n",
      "     algorithm = meanfield (Default)\n",
      "       meanfield\n",
      "     iter = 10000 (Default)\n",
      "     grad_samples = 1 (Default)\n",
      "     elbo_samples = 100 (Default)\n",
      "     eta = 1 (Default)\n",
      "     adapt\n",
      "       engaged = 1 (Default)\n",
      "       iter = 50 (Default)\n",
      "     tol_rel_obj = 0.01 (Default)\n",
      "     eval_elbo = 100 (Default)\n",
      "     output_samples = 1000 (Default)\n",
      " id = 0 (Default)\n",
      " data\n",
      "   file = examples/dorothea/dorothea.data.R\n",
      " init = 2 (Default)\n",
      " random\n",
      "   seed = 1464486886\n",
      " output\n",
      "   file = dorothea_advi.csv\n",
      "   diagnostic_file =  (Default)\n",
      "   refresh = 100 (Default)\n",
      "\n",
      "\n",
      "This is Automatic Differentiation Variational Inference.\n",
      "\n",
      "(EXPERIMENTAL ALGORITHM: expect frequent updates to the procedure.)\n",
      "\n",
      "Gradient evaluation took 0.00715 seconds\n",
      "1000 iterations under these settings should take 7.15 seconds.\n",
      "Adjust your expectations accordingly!\n",
      "\n",
      "Begin eta adaptation.\n",
      "Iteration:   1 / 250 [  0%]  (Adaptation)\n",
      "Iteration:  50 / 250 [ 20%]  (Adaptation)\n",
      "Iteration: 100 / 250 [ 40%]  (Adaptation)\n",
      "Iteration: 150 / 250 [ 60%]  (Adaptation)\n",
      "Iteration: 200 / 250 [ 80%]  (Adaptation)\n",
      "Success! Found best value [eta = 1] earlier than expected.\n",
      "\n",
      "Begin stochastic gradient ascent.\n",
      "  iter       ELBO   delta_ELBO_mean   delta_ELBO_med   notes \n",
      "   100     -4e+02             1.000            1.000\n",
      "   200     -418.4             0.501            1.000\n",
      "   300     -410.1             0.341            0.020\n",
      "   400     -403.6             0.259            0.020\n",
      "   500     -399.5             0.210            0.016\n",
      "   600     -405.9             0.177            0.016\n",
      "   700     -400.3             0.154            0.016\n",
      "   800     -400.9             0.135            0.016\n",
      "   900     -399.0             0.120            0.014\n",
      "  1000     -401.6             0.109            0.014\n",
      "  1100     -400.4             0.009            0.010   MEAN ELBO CONVERGED\n",
      "\n",
      "Drawing 1000 samples from the approximate posterior... COMPLETED.\n",
      "17.0709059238\n"
     ]
    }
   ],
   "source": [
    "start = time.time()\n",
    "!examples/dorothea/dorothea variational data file=examples/dorothea/dorothea.data.R output file=dorothea_advi.csv \n",
    "end = time.time()\n",
    "\n",
    "print end-start"
   ]
  },
  {
   "cell_type": "code",
   "execution_count": 11,
   "metadata": {
    "collapsed": false
   },
   "outputs": [
    {
     "data": {
      "text/plain": [
       "   Min. 1st Qu.  Median    Mean 3rd Qu.    Max. \n",
       " 0.1608  0.2050  0.2212  0.2220  0.2375  0.3142 \n",
       "Computed from 1001 by 800 log-likelihood matrix\n",
       "\n",
       "         Estimate   SE\n",
       "elpd_loo   -468.7 31.6\n",
       "p_loo       377.3 27.5\n",
       "looic       937.5 63.2\n",
       "Computed from 1001 by 800 log-likelihood matrix\n",
       "\n",
       "          Estimate   SE\n",
       "elpd_waic   -258.3 20.2\n",
       "p_waic       166.9 13.8\n",
       "waic         516.6 40.4\n"
      ]
     },
     "metadata": {},
     "output_type": "display_data"
    }
   ],
   "source": [
    "%%R\n",
    "library(rstan)\n",
    "output_advi <- read_one_stan_csv(\"dorothea_advi.csv\")\n",
    "#head(output_advi)\n",
    "print(summary(output_advi$average_error))\n",
    "#log_lik1 <- extract_log_lik(output_advi) # see ?extract_log_lik\n",
    "col_nb <- grep(\"log_lik\", names(output_advi))\n",
    "log_lik <- as.matrix(output_advi[,col_nb])\n",
    "#head(as.matrix(log_lik))\n",
    "print(loo(log_lik))\n",
    "print(waic(log_lik))\n"
   ]
  },
  {
   "cell_type": "code",
   "execution_count": 27,
   "metadata": {
    "collapsed": false
   },
   "outputs": [
    {
     "data": {
      "image/png": "[encoded data removed]"
     },
     "metadata": {},
     "output_type": "display_data"
    }
   ],
   "source": [
    "%%R\n",
    "coda::traceplot(x=coda::as.mcmc(output_advi$beta.1))"
   ]
  },
  {
   "cell_type": "markdown",
   "metadata": {},
   "source": [
    "# BNN-ARD"
   ]
  },
  {
   "cell_type": "code",
   "execution_count": 57,
   "metadata": {
    "collapsed": false
   },
   "outputs": [
    {
     "name": "stdout",
     "output_type": "stream",
     "text": [
      "functions {\r",
      "\r\n",
      "  matrix scaled_inv_logit(matrix X) {\r",
      "\r\n",
      "    matrix[rows(X), cols(X)] res;\r",
      "\r\n",
      "    for(i in 1:rows(X))\r",
      "\r\n",
      "      for(j in 1:cols(X)) \r",
      "\r\n",
      "        res[i,j] <- inv_logit(X[i,j])*2-1;\r",
      "\r\n",
      "    return res;\r",
      "\r\n",
      "  }\r",
      "\r\n",
      "  \r",
      "\r\n",
      "  vector calculate_alpha(matrix X, vector bias, matrix beta_first, matrix[] beta_middle, vector beta_output) {\r",
      "\r\n",
      "    int N;\r",
      "\r\n",
      "    int num_nodes;\r",
      "\r\n",
      "    int num_layers;\r",
      "\r\n",
      "    matrix[rows(X),rows(beta_first)] layer_values[rows(bias)];\r",
      "\r\n",
      "    vector[rows(X)] alpha;\r",
      "\r\n",
      "    \r",
      "\r\n",
      "    N <- rows(X);\r",
      "\r\n",
      "    num_nodes <- rows(beta_first);\r",
      "\r\n",
      "    num_layers <- rows(bias);\r",
      "\r\n",
      "    \r",
      "\r\n",
      "    layer_values[1] <- scaled_inv_logit(bias[1] + X * beta_first');   \r",
      "\r\n",
      "    for(i in 2:(num_layers-1)){\r",
      "\r\n",
      "      layer_values[i] <- scaled_inv_logit(bias[i] + layer_values[i-1] * beta_middle[i-1]');\r",
      "\r\n",
      "    }\r",
      "\r\n",
      "    alpha <- bias[num_layers] + layer_values[num_layers-1] * beta_output;\r",
      "\r\n",
      "    return alpha;\r",
      "\r\n",
      "  }\r",
      "\r\n",
      "  real BER(vector y, vector yhat, int Nt){\r",
      "\r\n",
      "    real TN;\r",
      "\r\n",
      "    real FN;\r",
      "\r\n",
      "    real TP;\r",
      "\r\n",
      "    real FP;\r",
      "\r\n",
      "    real BER;\r",
      "\r\n",
      "    TN <- 0.0;\r",
      "\r\n",
      "    FN <- 0.0;\r",
      "\r\n",
      "    TP <- 0.0;\r",
      "\r\n",
      "    FP <- 0.0;\r",
      "\r\n",
      "    for(i in 1:Nt){\r",
      "\r\n",
      "      if(round(yhat[i]) == 0 && y[i] == 0) TN <- TN + 1.0;\r",
      "\r\n",
      "      if(round(yhat[i]) == 0 && y[i] == 1) FN <- FN + 1.0;\r",
      "\r\n",
      "      if(round(yhat[i]) == 1 && y[i] == 1) TP <- TP + 1.0;\r",
      "\r\n",
      "      if(round(yhat[i]) == 1 && y[i] == 0) FP <- FP + 1.0;\r",
      "\r\n",
      "    }\r",
      "\r\n",
      "    print(TN);\r",
      "\r\n",
      "    BER <- 0.5 * (FP/(FP+TN) + FN/(FN+TP));\r",
      "\r\n",
      "    return BER;\r",
      "\r\n",
      "  }\r",
      "\r\n",
      "}\r",
      "\r\n",
      "data {\r",
      "\r\n",
      "  int<lower=0> N;\r",
      "\r\n",
      "  int<lower=0> d;\r",
      "\r\n",
      "  int<lower=0> num_nodes;\r",
      "\r\n",
      "  int<lower=1> num_middle_layers;\r",
      "\r\n",
      "  int<lower=0> Nt;\r",
      "\r\n",
      "  int y[N];\r",
      "\r\n",
      "  matrix[N,d] X;\r",
      "\r\n",
      "  vector[Nt] yt;\r",
      "\r\n",
      "  matrix[Nt,d] Xt;\r",
      "\r\n",
      "}\r",
      "\r\n",
      "transformed data {\r",
      "\r\n",
      "  int num_layers;\r",
      "\r\n",
      "  num_layers <- num_middle_layers + 2;\r",
      "\r\n",
      "}\r",
      "\r\n",
      "parameters {\r",
      "\r\n",
      "  vector[num_layers] bias;\r",
      "\r\n",
      "  matrix[num_nodes,d] beta_first;\r",
      "\r\n",
      "  matrix[num_nodes,num_nodes] beta_middle[num_middle_layers];\r",
      "\r\n",
      "  vector[num_nodes] beta_output;\r",
      "\r\n",
      "  real<lower=0> sigma2;\r",
      "\r\n",
      "  vector<lower=0>[num_nodes*d] phi;\r",
      "\r\n",
      "}\r",
      "\r\n",
      "transformed parameters {\r",
      "\r\n",
      "  real sigma;\r",
      "\r\n",
      "  vector[num_nodes*d] one_over_sqrt_phi;\r",
      "\r\n",
      "  sigma <- sqrt(sigma2);\r",
      "\r\n",
      "  for(i in 1:(num_nodes*d))\r",
      "\r\n",
      "    one_over_sqrt_phi[i] <- 1/sqrt(phi[i]);\r",
      "\r\n",
      "}\r",
      "\r\n",
      "model{\r",
      "\r\n",
      "  vector[N] alpha;\r",
      "\r\n",
      "  alpha <- calculate_alpha(X, bias, beta_first, beta_middle, beta_output);\r",
      "\r\n",
      "  y ~ bernoulli_logit(alpha);\r",
      "\r\n",
      "  \r",
      "\r\n",
      "  //priors\r",
      "\r\n",
      "  bias ~ normal(0,1);\r",
      "\r\n",
      "  phi ~ gamma(5,1);\r",
      "\r\n",
      "  to_vector(beta_output) ~ normal(0,1);\r",
      "\r\n",
      "  to_vector(beta_first) ~ normal(0, sigma * one_over_sqrt_phi);\r",
      "\r\n",
      "  for(i in 1:(num_middle_layers)) \r",
      "\r\n",
      "    to_vector(beta_middle[i]) ~ normal(0,1);\r",
      "\r\n",
      "}\r",
      "\r\n",
      "generated quantities{\r",
      "\r\n",
      "  vector[Nt] predictions;\r",
      "\r\n",
      "  real<lower=0> errors[Nt];\r",
      "\r\n",
      "  real<lower=0> average_error;\r",
      "\r\n",
      "  vector[N] log_lik;\r",
      "\r\n",
      "  vector[Nt] alphat;\r",
      "\r\n",
      "  vector[N] alpha;\r",
      "\r\n",
      "  alphat <- calculate_alpha(Xt, bias, beta_first, beta_middle, beta_output);\r",
      "\r\n",
      "\r",
      "\r\n",
      "  for(i in 1:Nt){\r",
      "\r\n",
      "    predictions[i] <- inv_logit(alphat[i]);\r",
      "\r\n",
      "    errors[i] <- fabs(yt[i] - round(predictions[i]));\r",
      "\r\n",
      "  }\r",
      "\r\n",
      "\r",
      "\r\n",
      "  average_error <- BER(yt, predictions, Nt);//sum(errors) / Nt;\r",
      "\r\n",
      "\r",
      "\r\n",
      "  alpha <- calculate_alpha(X, bias, beta_first, beta_middle, beta_output);\r",
      "\r\n",
      "\r",
      "\r\n",
      "  for(n in 1:N)\r",
      "\r\n",
      "    log_lik[n] <- bernoulli_logit_log(y[n], alpha[n]);\r",
      "\r\n",
      "}\r",
      "\r\n"
     ]
    }
   ],
   "source": [
    "!cat examples/bnn-ard/bnn-ard.stan"
   ]
  },
  {
   "cell_type": "code",
   "execution_count": null,
   "metadata": {
    "collapsed": false
   },
   "outputs": [
    {
     "name": "stdout",
     "output_type": "stream",
     "text": [
      "\n",
      "--- Translating Stan model to C++ code ---\n",
      "bin/stanc examples/bnn-ard/bnn-ard.stan --o=examples/bnn-ard/bnn-ard.hpp\n",
      "Model name=bnn_ard_model\n",
      "Input file=examples/bnn-ard/bnn-ard.stan\n",
      "Output file=examples/bnn-ard/bnn-ard.hpp\n",
      "\n",
      "--- Linking C++ model ---\n",
      "g++ -DBOOST_RESULT_OF_USE_TR1 -DBOOST_NO_DECLTYPE -DBOOST_DISABLE_ASSERTS -I src -I stan_2.9.0/src -isystem stan_2.9.0/lib/stan_math_2.9.0/ -isystem stan_2.9.0/lib/stan_math_2.9.0/lib/eigen_3.2.4 -isystem stan_2.9.0/lib/stan_math_2.9.0/lib/boost_1.58.0 -Wall -pipe -DEIGEN_NO_DEBUG -Wno-unused-function -ftemplate-depth-256    -O3 -o examples/bnn-ard/bnn-ard src/cmdstan/main.cpp -include examples/bnn-ard/bnn-ard.hpp \n"
     ]
    }
   ],
   "source": [
    "!make examples/bnn-ard/bnn-ard"
   ]
  },
  {
   "cell_type": "code",
   "execution_count": null,
   "metadata": {
    "collapsed": false,
    "scrolled": false
   },
   "outputs": [
    {
     "name": "stdout",
     "output_type": "stream",
     "text": [
      " method = sample (Default)\n",
      "   sample\n",
      "     num_samples = 1000 (Default)\n",
      "     num_warmup = 1000 (Default)\n",
      "     save_warmup = 0 (Default)\n",
      "     thin = 1 (Default)\n",
      "     adapt\n",
      "       engaged = 1 (Default)\n",
      "       gamma = 0.050000000000000003 (Default)\n",
      "       delta = 0.80000000000000004 (Default)\n",
      "       kappa = 0.75 (Default)\n",
      "       t0 = 10 (Default)\n",
      "       init_buffer = 75 (Default)\n",
      "       term_buffer = 50 (Default)\n",
      "       window = 25 (Default)\n",
      "     algorithm = hmc (Default)\n",
      "       hmc\n",
      "         engine = nuts (Default)\n",
      "           nuts\n",
      "             max_depth = 10 (Default)\n",
      "         metric = diag_e (Default)\n",
      "         stepsize = 1 (Default)\n",
      "         stepsize_jitter = 0 (Default)\n",
      " id = 0 (Default)\n",
      " data\n",
      "   file = examples/dorothea/dorotheabnn.data.R\n",
      " init = 2 (Default)\n",
      " random\n",
      "   seed = 1518552829\n",
      " output\n",
      "   file = bnn-ard_dorothea_nuts.csv\n",
      "   diagnostic_file =  (Default)\n",
      "   refresh = 100 (Default)\n",
      "\n",
      "\n",
      "Gradient evaluation took 0.036567 seconds\n",
      "1000 transitions using 10 leapfrog steps per transition would take 365.67 seconds.\n",
      "Adjust your expectations accordingly!\n",
      "\n",
      "\n",
      "Iteration:    1 / 2000 [  0%]  (Warmup)\n",
      "\n",
      "Informational Message: The current Metropolis proposal is about to be rejected because of the following issue:\n",
      "Exception thrown at line 96: stan::math::normal_log: Scale parameter[1] is 0, but must be > 0!\n",
      "If this warning occurs sporadically, such as for highly constrained variable types like covariance matrices, then the sampler is fine,\n",
      "but if this warning occurs often then your model may be either severely ill-conditioned or misspecified.\n"
     ]
    }
   ],
   "source": [
    "start = time.time()\n",
    "!examples/bnn-ard/bnn-ard sample data file=examples/dorothea/dorotheabnn.data.R output file=bnn-ard_dorothea_nuts.csv \n",
    "end = time.time()\n",
    "\n",
    "print end-start"
   ]
  },
  {
   "cell_type": "code",
   "execution_count": 16,
   "metadata": {
    "collapsed": false
   },
   "outputs": [
    {
     "name": "stdout",
     "output_type": "stream",
     "text": [
      "\n",
      "Error in scan(file, what, nmax, sep, dec, quote, skip, nlines, na.strings,  : \n",
      "  scan() expected 'a real', got '-0.0952.183'\n"
     ]
    },
    {
     "name": "stderr",
     "output_type": "stream",
     "text": [
      "/usr/local/lib/python2.7/site-packages/rpy2/robjects/functions.py:106: UserWarning: Error in scan(file, what, nmax, sep, dec, quote, skip, nlines, na.strings,  : \n",
      "  scan() expected 'a real', got '-0.0952.183'\n",
      "\n",
      "  res = super(Function, self).__call__(*new_args, **new_kwargs)\n",
      "/usr/local/lib/python2.7/site-packages/rpy2/robjects/functions.py:106: UserWarning: 1: 403 (50.4%) Pareto k estimates between 0.5 and 1 \n",
      "\n",
      "  res = super(Function, self).__call__(*new_args, **new_kwargs)\n",
      "/usr/local/lib/python2.7/site-packages/rpy2/robjects/functions.py:106: UserWarning: 2: 151 (18.9%) Pareto k estimates greater than 1 \n",
      "\n",
      "  res = super(Function, self).__call__(*new_args, **new_kwargs)\n",
      "/usr/local/lib/python2.7/site-packages/rpy2/robjects/functions.py:106: UserWarning: 4: 54 (6.8%) p_waic estimates greater than 0.4.\n",
      "We recommend trying loo() instead. \n",
      "\n",
      "  res = super(Function, self).__call__(*new_args, **new_kwargs)\n",
      "/usr/local/lib/python2.7/site-packages/rpy2/robjects/functions.py:106: UserWarning: 5: \n",
      "  res = super(Function, self).__call__(*new_args, **new_kwargs)\n",
      "/usr/local/lib/python2.7/site-packages/rpy2/robjects/functions.py:106: UserWarning: In FUN(X[[i]], ...) :\n",
      "  res = super(Function, self).__call__(*new_args, **new_kwargs)\n",
      "/usr/local/lib/python2.7/site-packages/rpy2/robjects/functions.py:106: UserWarning:  line with \"Elapsed Time\" not found\n",
      "\n",
      "  res = super(Function, self).__call__(*new_args, **new_kwargs)\n"
     ]
    }
   ],
   "source": [
    "%%R\n",
    "output_nuts <- read_stan_csv(\"bnn-ard_dorothea_nuts.csv\")\n",
    "\n",
    "\n",
    "\n",
    "log_lik <- extract_log_lik(output_nuts) # see ?extract_log_lik\n",
    "\n",
    "\n",
    "print(loo(log_lik))\n",
    "print(waic(log_lik))\n",
    "\n",
    "print(summary(extract_log_lik(output_nuts, \"average_error\")))"
   ]
  },
  {
   "cell_type": "code",
   "execution_count": 12,
   "metadata": {
    "collapsed": false,
    "scrolled": true
   },
   "outputs": [
    {
     "name": "stdout",
     "output_type": "stream",
     "text": [
      " method = variational\n",
      "   variational\n",
      "     algorithm = meanfield (Default)\n",
      "       meanfield\n",
      "     iter = 10000 (Default)\n",
      "     grad_samples = 1 (Default)\n",
      "     elbo_samples = 100 (Default)\n",
      "     eta = 1 (Default)\n",
      "     adapt\n",
      "       engaged = 1 (Default)\n",
      "       iter = 50 (Default)\n",
      "     tol_rel_obj = 0.01 (Default)\n",
      "     eval_elbo = 100 (Default)\n",
      "     output_samples = 1000 (Default)\n",
      " id = 0 (Default)\n",
      " data\n",
      "   file = examples/dorothea/dorotheabnn.data.R\n",
      " init = 2 (Default)\n",
      " random\n",
      "   seed = 1461752871\n",
      " output\n",
      "   file = bnn-ard_dorothea_advi.csv\n",
      "   diagnostic_file =  (Default)\n",
      "   refresh = 100 (Default)\n",
      "\n",
      "\n",
      "This is Automatic Differentiation Variational Inference.\n",
      "\n",
      "(EXPERIMENTAL ALGORITHM: expect frequent updates to the procedure.)\n",
      "\n",
      "Gradient evaluation took 0.015022 seconds\n",
      "1000 iterations under these settings should take 15.022 seconds.\n",
      "Adjust your expectations accordingly!\n",
      "\n",
      "Begin eta adaptation.\n",
      "Iteration:   1 / 250 [  0%]  (Adaptation)\n",
      "Iteration:  50 / 250 [ 20%]  (Adaptation)\n",
      "Iteration: 100 / 250 [ 40%]  (Adaptation)\n",
      "Iteration: 150 / 250 [ 60%]  (Adaptation)\n",
      "Iteration: 200 / 250 [ 80%]  (Adaptation)\n",
      "Success! Found best value [eta = 1] earlier than expected.\n",
      "\n",
      "Begin stochastic gradient ascent.\n",
      "  iter       ELBO   delta_ELBO_mean   delta_ELBO_med   notes \n",
      "   100     -2e+03             1.000            1.000\n",
      "   200     -581.3             1.477            1.955\n",
      "   300     -496.5             1.042            1.000\n",
      "   400     -467.6             0.797            1.000\n",
      "   500     -446.9             0.647            0.171\n",
      "   600     -429.1             0.546            0.171\n",
      "   700     -417.7             0.472            0.062\n",
      "   800     -422.9             0.414            0.062\n",
      "   900     -416.0             0.370            0.046\n",
      "  1000     -409.1             0.335            0.046\n",
      "  1100     -394.6             0.238            0.041\n",
      "  1200     -400.4             0.044            0.037\n",
      "  1300     -401.8             0.028            0.027\n",
      "  1400     -381.7             0.027            0.027\n",
      "  1500     -378.9             0.023            0.017\n",
      "  1600     -392.6             0.022            0.017\n",
      "  1700     -385.0             0.022            0.017\n",
      "  1800     -378.6             0.022            0.017\n",
      "  1900     -380.6             0.021            0.017\n",
      "  2000     -393.8             0.023            0.020\n",
      "  2100     -390.2             0.020            0.017\n",
      "  2200     -371.9             0.023            0.020\n",
      "  2300     -377.1             0.024            0.020\n",
      "  2400     -369.1             0.021            0.020\n",
      "  2500     -376.2             0.022            0.020\n",
      "  2600     -367.4             0.021            0.020\n",
      "  2700     -372.0             0.020            0.019\n",
      "  2800     -379.6             0.021            0.020\n",
      "  2900     -370.5             0.023            0.022\n",
      "  3000     -371.1             0.020            0.020\n",
      "  3100     -354.8             0.023            0.022\n",
      "  3200     -370.7             0.023            0.022\n",
      "  3300     -368.9             0.022            0.022\n",
      "  3400     -361.2             0.022            0.021\n",
      "  3500     -367.0             0.021            0.021\n",
      "  3600     -364.8             0.020            0.020\n",
      "  3700     -376.5             0.021            0.021\n",
      "  3800     -367.2             0.022            0.025\n",
      "  3900     -363.3             0.021            0.021\n",
      "  4000     -366.5             0.021            0.021\n",
      "  4100     -355.0             0.020            0.021\n",
      "  4200     -362.3             0.018            0.020\n",
      "  4300     -363.5             0.017            0.020\n",
      "  4400     -363.3             0.015            0.016\n",
      "  4500     -342.9             0.020            0.020\n",
      "  4600     -353.2             0.022            0.026\n",
      "  4700     -357.7             0.020            0.020\n",
      "  4800     -365.1             0.020            0.020\n",
      "  4900     -353.2             0.022            0.020\n",
      "  5000     -361.9             0.024            0.024\n",
      "  5100     -356.6             0.022            0.020\n",
      "  5200     -365.5             0.022            0.024\n",
      "  5300     -352.7             0.025            0.024\n",
      "  5400     -352.7             0.025            0.024\n",
      "  5500     -358.8             0.021            0.024\n",
      "  5600     -358.4             0.018            0.020\n",
      "  5700     -352.5             0.019            0.020\n",
      "  5800     -358.1             0.018            0.017\n",
      "  5900     -367.2             0.017            0.017\n",
      "  6000     -347.4             0.021            0.017\n",
      "  6100     -352.2             0.021            0.017\n",
      "  6200     -351.8             0.018            0.017\n",
      "  6300     -364.7             0.018            0.017\n",
      "  6400     -357.0             0.020            0.017\n",
      "  6500     -349.4             0.021            0.022\n",
      "  6600     -351.3             0.021            0.022\n",
      "  6700     -353.7             0.020            0.022\n",
      "  6800     -353.6             0.019            0.022\n",
      "  6900     -353.5             0.016            0.014\n",
      "  7000     -358.2             0.012            0.013\n",
      "  7100     -347.4             0.014            0.013\n",
      "  7200     -349.2             0.014            0.013\n",
      "  7300     -356.4             0.013            0.013\n",
      "  7400     -351.3             0.012            0.013\n",
      "  7500     -350.6             0.010            0.007   MEAN ELBO CONVERGED   MEDIAN ELBO CONVERGED\n",
      "\n",
      "Drawing 1000 samples from the approximate posterior... COMPLETED.\n",
      "143.793206215\n"
     ]
    }
   ],
   "source": [
    "start = time.time()\n",
    "!examples/bnn-ard/bnn-ard variational data file=examples/dorothea/dorotheabnn.data.R output file=bnn-ard_dorothea_advi.csv \n",
    "end = time.time()\n",
    "\n",
    "print end-start"
   ]
  },
  {
   "cell_type": "code",
   "execution_count": 13,
   "metadata": {
    "collapsed": false
   },
   "outputs": [
    {
     "data": {
      "text/plain": [
       "Computed from 1001 by 800 log-likelihood matrix\n",
       "\n",
       "         Estimate   SE\n",
       "elpd_loo   -268.4 19.7\n",
       "p_loo        12.8  1.2\n",
       "looic       536.9 39.4\n",
       "\n",
       "All Pareto k estimates OK (k < 0.5)\n",
       "Computed from 1001 by 800 log-likelihood matrix\n",
       "\n",
       "          Estimate   SE\n",
       "elpd_waic   -268.4 19.7\n",
       "p_waic        12.8  1.2\n",
       "waic         536.9 39.5\n",
       "   Min. 1st Qu.  Median    Mean 3rd Qu.    Max. \n",
       " 0.5000  0.5000  0.5000  0.5000  0.5000  0.5016 \n"
      ]
     },
     "metadata": {},
     "output_type": "display_data"
    }
   ],
   "source": [
    "%%R\n",
    "output_advi <- read_one_stan_csv(\"bnn-ard_dorothea_advi.csv\")\n",
    "#head(output_advi)\n",
    "col_nb <- grep(\"log_lik\", names(output_advi))\n",
    "log_lik <- as.matrix(output_advi[,col_nb])\n",
    "#head(as.matrix(log_lik))\n",
    "print(loo(log_lik))\n",
    "print(waic(log_lik))\n",
    "print(summary(output_advi$average_error))"
   ]
  },
  {
   "cell_type": "markdown",
   "metadata": {},
   "source": [
    "# GP"
   ]
  },
  {
   "cell_type": "code",
   "execution_count": null,
   "metadata": {
    "collapsed": true
   },
   "outputs": [],
   "source": [
    "!make examples/gp/gp"
   ]
  },
  {
   "cell_type": "code",
   "execution_count": 3,
   "metadata": {
    "collapsed": false
   },
   "outputs": [
    {
     "name": "stdout",
     "output_type": "stream",
     "text": [
      " method = sample (Default)\n",
      "   sample\n",
      "     num_samples = 1000 (Default)\n",
      "     num_warmup = 1000 (Default)\n",
      "     save_warmup = 0 (Default)\n",
      "     thin = 1 (Default)\n",
      "     adapt\n",
      "       engaged = 1 (Default)\n",
      "       gamma = 0.050000000000000003 (Default)\n",
      "       delta = 0.80000000000000004 (Default)\n",
      "       kappa = 0.75 (Default)\n",
      "       t0 = 10 (Default)\n",
      "       init_buffer = 75 (Default)\n",
      "       term_buffer = 50 (Default)\n",
      "       window = 25 (Default)\n",
      "     algorithm = hmc (Default)\n",
      "       hmc\n",
      "         engine = nuts (Default)\n",
      "           nuts\n",
      "             max_depth = 10 (Default)\n",
      "         metric = diag_e (Default)\n",
      "         stepsize = 1 (Default)\n",
      "         stepsize_jitter = 0 (Default)\n",
      " id = 0 (Default)\n",
      " data\n",
      "   file = examples/dorothea/dorotheagp.data.R\n",
      " init = 2 (Default)\n",
      " random\n",
      "   seed = 1505096921\n",
      " output\n",
      "   file = gp_dorothea_nuts.csv\n",
      "   diagnostic_file =  (Default)\n",
      "   refresh = 100 (Default)\n",
      "\n",
      "\n",
      "Gradient evaluation took 0.472814 seconds\n",
      "1000 transitions using 10 leapfrog steps per transition would take 4728.14 seconds.\n",
      "Adjust your expectations accordingly!\n",
      "\n",
      "\n",
      "Iteration:    1 / 2000 [  0%]  (Warmup)\n",
      "Iteration:  100 / 2000 [  5%]  (Warmup)\n",
      "Iteration:  200 / 2000 [ 10%]  (Warmup)\n",
      "^C\n",
      "6637.9070878\n"
     ]
    }
   ],
   "source": [
    "start = time.time()\n",
    "!examples/gp/gp sample data file=examples/dorothea/dorotheagp.data.R output file=gp_dorothea_nuts.csv \n",
    "end = time.time()\n",
    "\n",
    "print end-start"
   ]
  },
  {
   "cell_type": "code",
   "execution_count": 4,
   "metadata": {
    "collapsed": false
   },
   "outputs": [
    {
     "name": "stdout",
     "output_type": "stream",
     "text": [
      "\n",
      "Error in extract_log_lik(output_nuts) : Please load the 'rstan' package.\n"
     ]
    },
    {
     "name": "stderr",
     "output_type": "stream",
     "text": [
      "/usr/local/lib/python2.7/site-packages/rpy2/robjects/functions.py:106: UserWarning: Error in extract_log_lik(output_nuts) : Please load the 'rstan' package.\n",
      "\n",
      "  res = super(Function, self).__call__(*new_args, **new_kwargs)\n",
      "/usr/local/lib/python2.7/site-packages/rpy2/robjects/functions.py:106: UserWarning: In addition: \n",
      "  res = super(Function, self).__call__(*new_args, **new_kwargs)\n",
      "/usr/local/lib/python2.7/site-packages/rpy2/robjects/functions.py:106: UserWarning: Warning messages:\n",
      "\n",
      "  res = super(Function, self).__call__(*new_args, **new_kwargs)\n",
      "/usr/local/lib/python2.7/site-packages/rpy2/robjects/functions.py:106: UserWarning: 1: \n",
      "  res = super(Function, self).__call__(*new_args, **new_kwargs)\n",
      "/usr/local/lib/python2.7/site-packages/rpy2/robjects/functions.py:106: UserWarning: In FUN(X[[i]], ...) :\n",
      "  res = super(Function, self).__call__(*new_args, **new_kwargs)\n",
      "/usr/local/lib/python2.7/site-packages/rpy2/robjects/functions.py:106: UserWarning:  line with \"Elapsed Time\" not found\n",
      "\n",
      "  res = super(Function, self).__call__(*new_args, **new_kwargs)\n",
      "/usr/local/lib/python2.7/site-packages/rpy2/robjects/functions.py:106: UserWarning: 2: \n",
      "  res = super(Function, self).__call__(*new_args, **new_kwargs)\n",
      "/usr/local/lib/python2.7/site-packages/rpy2/robjects/functions.py:106: UserWarning: In read_stan_csv(\"gp_dorothea_nuts.csv\") :\n",
      "  res = super(Function, self).__call__(*new_args, **new_kwargs)\n",
      "/usr/local/lib/python2.7/site-packages/rpy2/robjects/functions.py:106: UserWarning: \n",
      " \n",
      "  res = super(Function, self).__call__(*new_args, **new_kwargs)\n",
      "/usr/local/lib/python2.7/site-packages/rpy2/robjects/functions.py:106: UserWarning:  the number of iterations after warmup found (0) does not match iter/warmup/thin from CSV comments (1000)\n",
      "\n",
      "  res = super(Function, self).__call__(*new_args, **new_kwargs)\n"
     ]
    }
   ],
   "source": [
    "%%R\n",
    "output_nuts <- read_stan_csv(\"gp_dorothea_nuts.csv\")\n",
    "\n",
    "\n",
    "\n",
    "log_lik <- extract_log_lik(output_nuts) # see ?extract_log_lik\n",
    "\n",
    "\n",
    "print(loo(log_lik))\n",
    "print(waic(log_lik))\n",
    "\n",
    "print(summary(extract_log_lik(output_nuts, \"average_error\")))"
   ]
  },
  {
   "cell_type": "code",
   "execution_count": null,
   "metadata": {
    "collapsed": false
   },
   "outputs": [
    {
     "name": "stdout",
     "output_type": "stream",
     "text": [
      " method = variational\r\n",
      "   variational\r\n",
      "     algorithm = meanfield (Default)\r\n",
      "       meanfield\r\n",
      "     iter = 10000 (Default)\r\n",
      "     grad_samples = 1 (Default)\r\n",
      "     elbo_samples = 100 (Default)\r\n",
      "     eta = 1 (Default)\r\n",
      "     adapt\r\n",
      "       engaged = 1 (Default)\r\n",
      "       iter = 50 (Default)\r\n",
      "     tol_rel_obj = 0.01 (Default)\r\n",
      "     eval_elbo = 100 (Default)\r\n",
      "     output_samples = 1000 (Default)\r\n",
      " id = 0 (Default)\r\n",
      " data\r\n",
      "   file = examples/dorothea/dorotheagp.data.R\r\n",
      " init = 2 (Default)\r\n",
      " random\r\n",
      "   seed = 1513215460\r\n",
      " output\r\n",
      "   file = gp_dorothea_advi.csv\r\n",
      "   diagnostic_file =  (Default)\r\n",
      "   refresh = 100 (Default)\r\n",
      "\r\n"
     ]
    }
   ],
   "source": [
    "start = time.time()\n",
    "!examples/gp/gp variational data file=examples/dorothea/dorotheagp.data.R output file=gp_dorothea_advi.csv \n",
    "end = time.time()\n",
    "\n",
    "print end-start"
   ]
  },
  {
   "cell_type": "code",
   "execution_count": null,
   "metadata": {
    "collapsed": false
   },
   "outputs": [],
   "source": [
    "%%R\n",
    "output_advi <- read_one_stan_csv(\"gp_dorothea_advi.csv\")\n",
    "#head(output_advi)\n",
    "col_nb <- grep(\"log_lik\", names(output_advi))\n",
    "log_lik <- as.matrix(output_advi[,col_nb])\n",
    "#head(as.matrix(log_lik))\n",
    "print(loo(log_lik))\n",
    "print(waic(log_lik))\n",
    "print(summary(output_advi$average_error))"
   ]
  },
  {
   "cell_type": "code",
   "execution_count": null,
   "metadata": {
    "collapsed": true
   },
   "outputs": [],
   "source": []
  }
 ],
 "metadata": {
  "kernelspec": {
   "display_name": "Python 2",
   "language": "python",
   "name": "python2"
  },
  "language_info": {
   "codemirror_mode": {
    "name": "ipython",
    "version": 2
   },
   "file_extension": ".py",
   "mimetype": "text/x-python",
   "name": "python",
   "nbconvert_exporter": "python",
   "pygments_lexer": "ipython2",
   "version": "2.7.12"
  }
 },
 "nbformat": 4,
 "nbformat_minor": 0
}
